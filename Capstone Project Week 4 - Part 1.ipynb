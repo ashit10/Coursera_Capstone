{
 "cells": [
  {
   "cell_type": "markdown",
   "metadata": {},
   "source": [
    "# Coursera Capstone Project\n",
    "\n",
    "## The Battle of Neighborhoods (Week 1)\n"
   ]
  },
  {
   "cell_type": "markdown",
   "metadata": {},
   "source": [
    "### Ashit Shrivastava- Part 1 : Introduction and Data"
   ]
  },
  {
   "cell_type": "code",
   "execution_count": 1,
   "metadata": {},
   "outputs": [
    {
     "name": "stderr",
     "output_type": "stream",
     "text": [
      "usage: conda-script.py [-h] [-V] command ...\n",
      "conda-script.py: error: unrecognized arguments: # uncomment this line if you haven't completed the Foursquare API lab\n"
     ]
    },
    {
     "name": "stdout",
     "output_type": "stream",
     "text": [
      "Libraries imported.\n"
     ]
    }
   ],
   "source": [
    "import numpy as np # library to handle data in a vectorized manner\n",
    "import time\n",
    "import pandas as pd # library for data analsysis\n",
    "pd.set_option('display.max_columns', None)\n",
    "pd.set_option('display.max_rows', None)\n",
    "\n",
    "import json # library to handle JSON files\n",
    "import requests # library to handle requests\n",
    "from pandas.io.json import json_normalize # tranform JSON file into a pandas dataframe\n",
    "\n",
    "from geopy.geocoders import Nominatim # convert an address into latitude and longitude values\n",
    "!conda install -c conda-forge folium=0.5.0 --yes # uncomment this line if you haven't completed the Foursquare API lab\n",
    "import folium # map rendering library\n",
    "\n",
    "print('Libraries imported.')"
   ]
  },
  {
   "cell_type": "markdown",
   "metadata": {},
   "source": [
    "### Coursera Capstone - REPORT CONTENT\n",
    "\n",
    "1.\tIntroduction Section : \n",
    "\t⁃\tDiscussion of the business problem and the interested audience in this project.\n",
    "2.\tData Section:  \n",
    "\t⁃\t Description of the data that will be used to solve the problem and the sources.\n",
    "3.\tMethodology section \n",
    "\t⁃\tDiscussion and description of exploratory data analysis carried out, any inferential statistical testing performed, and if any machine learnings were used establishing the strategy and purposes.\n",
    "4.\tResults section \n",
    "\t⁃\tDiscussion of the results.\n",
    "5.\tDiscussion section \n",
    "\t⁃\tElaboration and discussion on any observations noted and any recommendations suggested based on the results.\n",
    "6.\tConclusion section \n",
    "\t⁃\tReport Conclusion."
   ]
  },
  {
   "cell_type": "code",
   "execution_count": 19,
   "metadata": {},
   "outputs": [],
   "source": [
    "# A description of the problem and a discussion of the background. (15 marks)"
   ]
  },
  {
   "cell_type": "markdown",
   "metadata": {},
   "source": [
    "# 1.\tIntroduction Section : \n",
    "### Discussion of the business problem and the audience who would be interested in this project.\n"
   ]
  },
  {
   "cell_type": "markdown",
   "metadata": {},
   "source": [
    "### Description of the Problem and Background\n",
    "\n",
    "### Scenario:\n",
    "\n",
    "I am a data scientist residing in Downtown Singapore. \n",
    "I currently live within walking distance to Downtown Telok Ayer MRT metro station and I enjoy many ammenities and venues in the area, such as various international cousine restaurants, cafes, food shops and entertainment.\n",
    "I have been offered a great opportunity to work for a leader firm in Manhattan, NY. I am very excited and I want to use this opportunity to practice my learnings in Coursera in order to answer relevant questions arisen.\n",
    "The key question is :  How can I find a convenient and enjoyable place similar to mine now in Singapore?\n",
    "Certainly, I can use available real estate apps and Google but the idea is to use and apply myself the learned tools during the course.\n",
    "In order to make a comparison and evaluation of the rental options in Manhattan NY, I must set some basis, therefore the apartment in Manhattan must meet the following demands:\n",
    " - apartment must be 2 or 3 bedrooms\n",
    " - desired location is near a metro station in the Manhattan area and within 1.0 mile (1.6 km) radius\n",
    " - price of rent not exceed $7,000 per month\n",
    " - top ammenities in the selected neighborhood shall be similar to current residence\n",
    " - desirable to have venues such as coffee shops, restaurants Asian Thai, wine stores, gym and food shops\n",
    " - as a reference, I have included a map of venues near current residence in Singapore.\n",
    "    "
   ]
  },
  {
   "cell_type": "markdown",
   "metadata": {},
   "source": [
    "### Business Problem:   \n",
    "The challenge is to find a suitable apartment for rent in Manhattan NY that complies with the demands on location, price and venues. The data required to resolve this challenge is described in the following section 2, below.\n",
    "\n",
    "\n",
    "### Interested Audience\n",
    "I believe this is a relevant challenge with valid questions for anyone moving to other large city in US, EU or Asia. The same methodology can be applied in accordance to demands as applicable. This case is also applicable for anyone interested in exploring starting or locating a new business in any city. Lastly, it can also serve as a good practical exercise to develop Data Science skills.\n"
   ]
  },
  {
   "cell_type": "code",
   "execution_count": 20,
   "metadata": {},
   "outputs": [],
   "source": [
    "# A description of the data and how it will be used to solve the problem. (15 marks)"
   ]
  },
  {
   "cell_type": "markdown",
   "metadata": {},
   "source": [
    "# 2. Data Section:¶\n",
    "### Description of the data and its sources that will be used to solve the problem"
   ]
  },
  {
   "cell_type": "markdown",
   "metadata": {},
   "source": [
    "### Description of the Data:¶\n",
    "\n",
    "The following data is required to  answer the issues of the problem:\n",
    "\n",
    "- List of Boroughs and neighborhoods of Manhattan with their geodata (latitud and longitud) \n",
    "- List of Subway metro stations in Manhattan with their address location \n",
    "- List of apartments for rent in Manhattan area with their addresses and price\n",
    "- Preferably, a list of apartment for rent with additional information, such as price, address, area, # of beds, etc\n",
    "- Venues for each Manhattan neighborhood ( than can be clustered)\n",
    "- Venues for subway metro stations, as needed\n",
    "\n",
    "\n",
    "### How the data will be used to solve the problem\n",
    "\n",
    "The data will be used as follows:\n",
    "- Use Foursquare and geopy data to map top 10 venues for all Manhattan neighborhoods and clustered in groups ( as per Course LAB)\n",
    "- Use foursquare and geopy data to map the location of subway metro stations , separately and on top of the above clustered map in order to be able to identify the venues and ammenities near each metro station, or explore each subway location separately\n",
    "- Use Foursquare and geopy data to map the location of rental places, in some form, linked to the subway locations.\n",
    "- create a map that depicts, for instance, the average rental price per square ft, around a radious of 1.0 mile (1.6 km) around each subway station - or a similar metrics. I will be able to quickly point to the popups to know the relative price per subway area.\n",
    "- Addresses from rental locations will be converted to geodata( lat, long) using Geopy-distance and Nominatim.\n",
    "- Data will be searched in open data sources if available, from real estate sites if open to reading, libraries or other government agencies such as Metro New York MTA, etc.\n",
    "\n",
    "\n",
    "The procesing of these DATA will allow to answer the key questions to make a decision:\n",
    "- what is the cost of rent (per square ft) around a mile radius from each subway metro station?\n",
    "- what is the area of Manhattan with best rental pricing that meets criteria established?\n",
    "- What is the distance from work place ( Park Ave and 53 rd St) and the tentative future home?\n",
    "- What are the venues of the two best places to live? How the prices compare?\n",
    "- How venues distribute among Manhattan neighborhoods and around metro stations?\n",
    "- Are there tradeoffs between size and price and location?\n",
    "- Any other interesting statistical data findings of the real estate and overall data.\n",
    "\n"
   ]
  },
  {
   "cell_type": "markdown",
   "metadata": {},
   "source": [
    "### Reference of venues around current residence in Singapore for comparison to Manhattan place"
   ]
  },
  {
   "cell_type": "code",
   "execution_count": 21,
   "metadata": {},
   "outputs": [
    {
     "name": "stdout",
     "output_type": "stream",
     "text": [
      "The geograpical coordinate of Singapore home are 1.2792655, 103.8480938.\n"
     ]
    }
   ],
   "source": [
    "# Shenton Way, District 01, Singapore\n",
    "address = 'Mccallum Street, Singapore'\n",
    "\n",
    "geolocator = Nominatim()\n",
    "location = geolocator.geocode(address)\n",
    "latitude = location.latitude\n",
    "longitude = location.longitude\n",
    "print('The geograpical coordinate of Singapore home are {}, {}.'.format(latitude, longitude))"
   ]
  },
  {
   "cell_type": "code",
   "execution_count": 22,
   "metadata": {},
   "outputs": [],
   "source": [
    "neighborhood_latitude=1.2792655\n",
    "neighborhood_longitude=103.8480938"
   ]
  },
  {
   "cell_type": "code",
   "execution_count": 23,
   "metadata": {},
   "outputs": [],
   "source": [
    "# The code was removed by Watson Studio for sharing."
   ]
  },
  {
   "cell_type": "code",
   "execution_count": 24,
   "metadata": {},
   "outputs": [
    {
     "data": {
      "text/plain": [
       "'https://api.foursquare.com/v2/venues/explore?&client_id=DVCTZDPDYXTS0BRJFPLMHM323APGXNWZI5PLRQ1VC0CFLF1T&client_secret=5NWAGXRLXIXAV0L3DNYY1EPIHNMAAAIZFDFELYSYXL5LFWL1&v=20180605&ll=1.2792655,103.8480938&radius=500&limit=100'"
      ]
     },
     "execution_count": 24,
     "metadata": {},
     "output_type": "execute_result"
    }
   ],
   "source": [
    "\n",
    "LIMIT = 100 # limit of number of venues returned by Foursquare API\n",
    "radius = 500 # define radius\n",
    "\n",
    "# create URL\n",
    "url = 'https://api.foursquare.com/v2/venues/explore?&client_id={}&client_secret={}&v={}&ll={},{}&radius={}&limit={}'.format(\n",
    "    CLIENT_ID, \n",
    "    CLIENT_SECRET, \n",
    "    VERSION, \n",
    "    neighborhood_latitude, \n",
    "    neighborhood_longitude, \n",
    "    radius, \n",
    "    LIMIT)\n",
    "url # display URL"
   ]
  },
  {
   "cell_type": "code",
   "execution_count": 25,
   "metadata": {},
   "outputs": [],
   "source": [
    "results = requests.get(url).json()\n",
    "#results"
   ]
  },
  {
   "cell_type": "code",
   "execution_count": 26,
   "metadata": {},
   "outputs": [],
   "source": [
    "# function that extracts the category of the venue\n",
    "def get_category_type(row):\n",
    "    try:\n",
    "        categories_list = row['categories']\n",
    "    except:\n",
    "        categories_list = row['venue.categories']\n",
    "        \n",
    "    if len(categories_list) == 0:\n",
    "        return None\n",
    "    else:\n",
    "        return categories_list[0]['name']"
   ]
  },
  {
   "cell_type": "code",
   "execution_count": 27,
   "metadata": {},
   "outputs": [
    {
     "data": {
      "text/html": [
       "<div>\n",
       "<style scoped>\n",
       "    .dataframe tbody tr th:only-of-type {\n",
       "        vertical-align: middle;\n",
       "    }\n",
       "\n",
       "    .dataframe tbody tr th {\n",
       "        vertical-align: top;\n",
       "    }\n",
       "\n",
       "    .dataframe thead th {\n",
       "        text-align: right;\n",
       "    }\n",
       "</style>\n",
       "<table border=\"1\" class=\"dataframe\">\n",
       "  <thead>\n",
       "    <tr style=\"text-align: right;\">\n",
       "      <th></th>\n",
       "      <th>name</th>\n",
       "      <th>categories</th>\n",
       "      <th>lat</th>\n",
       "      <th>lng</th>\n",
       "    </tr>\n",
       "  </thead>\n",
       "  <tbody>\n",
       "    <tr>\n",
       "      <th>0</th>\n",
       "      <td>Napoleon Food &amp; Wine Bar</td>\n",
       "      <td>Wine Bar</td>\n",
       "      <td>1.279925</td>\n",
       "      <td>103.847333</td>\n",
       "    </tr>\n",
       "    <tr>\n",
       "      <th>1</th>\n",
       "      <td>Park Bench Deli</td>\n",
       "      <td>Deli / Bodega</td>\n",
       "      <td>1.279872</td>\n",
       "      <td>103.847287</td>\n",
       "    </tr>\n",
       "    <tr>\n",
       "      <th>2</th>\n",
       "      <td>Native</td>\n",
       "      <td>Cocktail Bar</td>\n",
       "      <td>1.280135</td>\n",
       "      <td>103.846844</td>\n",
       "    </tr>\n",
       "    <tr>\n",
       "      <th>3</th>\n",
       "      <td>Muchachos</td>\n",
       "      <td>Burrito Place</td>\n",
       "      <td>1.279175</td>\n",
       "      <td>103.847082</td>\n",
       "    </tr>\n",
       "    <tr>\n",
       "      <th>4</th>\n",
       "      <td>Matt's | The Chocolate Shop</td>\n",
       "      <td>Dessert Shop</td>\n",
       "      <td>1.280462</td>\n",
       "      <td>103.846950</td>\n",
       "    </tr>\n",
       "    <tr>\n",
       "      <th>5</th>\n",
       "      <td>Freehouse</td>\n",
       "      <td>Beer Garden</td>\n",
       "      <td>1.281254</td>\n",
       "      <td>103.848513</td>\n",
       "    </tr>\n",
       "    <tr>\n",
       "      <th>6</th>\n",
       "      <td>PS.Cafe</td>\n",
       "      <td>Café</td>\n",
       "      <td>1.280468</td>\n",
       "      <td>103.846264</td>\n",
       "    </tr>\n",
       "    <tr>\n",
       "      <th>7</th>\n",
       "      <td>왕대박 Wang Dae Bak Korean BBQ Restaurant</td>\n",
       "      <td>Korean Restaurant</td>\n",
       "      <td>1.281345</td>\n",
       "      <td>103.847551</td>\n",
       "    </tr>\n",
       "    <tr>\n",
       "      <th>8</th>\n",
       "      <td>Oven &amp; Fried Chicken</td>\n",
       "      <td>Korean Restaurant</td>\n",
       "      <td>1.280479</td>\n",
       "      <td>103.847522</td>\n",
       "    </tr>\n",
       "    <tr>\n",
       "      <th>9</th>\n",
       "      <td>Amoy Street Food Centre</td>\n",
       "      <td>Food Court</td>\n",
       "      <td>1.279490</td>\n",
       "      <td>103.846640</td>\n",
       "    </tr>\n",
       "  </tbody>\n",
       "</table>\n",
       "</div>"
      ],
      "text/plain": [
       "                                     name         categories       lat  \\\n",
       "0                Napoleon Food & Wine Bar           Wine Bar  1.279925   \n",
       "1                         Park Bench Deli      Deli / Bodega  1.279872   \n",
       "2                                  Native       Cocktail Bar  1.280135   \n",
       "3                               Muchachos      Burrito Place  1.279175   \n",
       "4             Matt's | The Chocolate Shop       Dessert Shop  1.280462   \n",
       "5                               Freehouse        Beer Garden  1.281254   \n",
       "6                                 PS.Cafe               Café  1.280468   \n",
       "7  왕대박 Wang Dae Bak Korean BBQ Restaurant  Korean Restaurant  1.281345   \n",
       "8                    Oven & Fried Chicken  Korean Restaurant  1.280479   \n",
       "9                 Amoy Street Food Centre         Food Court  1.279490   \n",
       "\n",
       "          lng  \n",
       "0  103.847333  \n",
       "1  103.847287  \n",
       "2  103.846844  \n",
       "3  103.847082  \n",
       "4  103.846950  \n",
       "5  103.848513  \n",
       "6  103.846264  \n",
       "7  103.847551  \n",
       "8  103.847522  \n",
       "9  103.846640  "
      ]
     },
     "execution_count": 27,
     "metadata": {},
     "output_type": "execute_result"
    }
   ],
   "source": [
    "venues = results['response']['groups'][0]['items']\n",
    "    \n",
    "SGnearby_venues = json_normalize(venues) # flatten JSON\n",
    "\n",
    "# filter columns\n",
    "filtered_columns = ['venue.name', 'venue.categories', 'venue.location.lat', 'venue.location.lng']\n",
    "SGnearby_venues =SGnearby_venues.loc[:, filtered_columns]\n",
    "\n",
    "# filter the category for each row\n",
    "SGnearby_venues['venue.categories'] = SGnearby_venues.apply(get_category_type, axis=1)\n",
    "\n",
    "# clean columns\n",
    "SGnearby_venues.columns = [col.split(\".\")[-1] for col in SGnearby_venues.columns]\n",
    "\n",
    "SGnearby_venues.head(10)"
   ]
  }
 ],
 "metadata": {
  "kernelspec": {
   "display_name": "Python 3",
   "language": "python",
   "name": "python3"
  },
  "language_info": {
   "codemirror_mode": {
    "name": "ipython",
    "version": 3
   },
   "file_extension": ".py",
   "mimetype": "text/x-python",
   "name": "python",
   "nbconvert_exporter": "python",
   "pygments_lexer": "ipython3",
   "version": "3.7.4"
  }
 },
 "nbformat": 4,
 "nbformat_minor": 2
}
